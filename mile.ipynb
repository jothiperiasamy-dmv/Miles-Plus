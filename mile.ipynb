{
 "cells": [
  {
   "cell_type": "code",
   "execution_count": 1,
   "metadata": {},
   "outputs": [],
   "source": [
    "import os\n",
    "from dotenv import load_dotenv\n",
    "load_dotenv()\n",
    "from pathlib import Path\n",
    "from openai import AzureOpenAI"
   ]
  },
  {
   "cell_type": "code",
   "execution_count": 13,
   "metadata": {},
   "outputs": [
    {
     "name": "stdout",
     "output_type": "stream",
     "text": [
      "\n",
      "[Original Qs for 001_Test_Intent_A]: 3\n",
      "[Optimized Qs for 001_Test_Intent_A]: 2\n",
      "\n",
      "[Original Qs for 002_Test_Intent_B]: 3\n",
      "[Optimized Qs for 002_Test_Intent_B]: 3\n",
      "\n",
      "[Original Qs for 003_Test_Intent_C]: 2\n",
      "[Optimized Qs for 003_Test_Intent_C]: 2\n",
      "\n",
      "[Original Qs for 004_Test_Intent_D]: 3\n",
      "[Optimized Qs for 004_Test_Intent_D]: 3\n",
      "\n",
      "[Original Qs for 005_Test_Intent_E]: 3\n",
      "[Optimized Qs for 005_Test_Intent_E]: 3\n"
     ]
    },
    {
     "data": {
      "text/plain": [
       "'data/sample_qna_test_updated.json'"
      ]
     },
     "execution_count": 13,
     "metadata": {},
     "output_type": "execute_result"
    }
   ],
   "source": [
    "import os\n",
    "import json\n",
    "import shutil\n",
    "from openai import AzureOpenAI\n",
    "\n",
    "def azure_openai_model_for_optimizations(intent, utterances):\n",
    "    endpoint = os.environ[\"AZURE_OPENAI_ENDPOINT\"]\n",
    "    deployment = \"gpt-4o\"\n",
    "    subscription_key = os.environ[\"AZURE_OPENAI_API_KEY\"]\n",
    "\n",
    "    client = AzureOpenAI(\n",
    "        azure_endpoint=endpoint,\n",
    "        api_key=subscription_key,\n",
    "        api_version=\"2024-05-01-preview\",\n",
    "    )\n",
    "\n",
    "    # Prompt\n",
    "    chat_prompt = [\n",
    "        {\n",
    "            \"role\": \"system\",\n",
    "            \"content\": (\n",
    "                \"You are an expert language model trained to optimize and consolidate user utterances for NLU systems. \"\n",
    "                \"Your task is to analyze a list of user utterances associated with a specific intent and generate a minimized, \"\n",
    "                \"high-quality list of optimized utterances while preserving full intent coverage. \"\n",
    "                \"Return only the list in this format: [\\\"Utterance1\\\", \\\"Utterance2\\\", ...]\"\n",
    "            ),\n",
    "        },\n",
    "        {\n",
    "            \"role\": \"user\",\n",
    "            \"content\": f\"\"\"Optimize the following utterances for the intent: '{intent}'.\n",
    "\n",
    "Here is the list of input utterances:\n",
    "{utterances}\n",
    "\n",
    "Return the optimized utterance list in plain JSON array format only: [ ... ]\"\"\",\n",
    "        },\n",
    "    ]\n",
    "\n",
    "    completion = client.chat.completions.create(\n",
    "        model=deployment,\n",
    "        messages=chat_prompt,\n",
    "        max_tokens=800,\n",
    "        temperature=0.7,\n",
    "        top_p=0.95,\n",
    "        frequency_penalty=0,\n",
    "        presence_penalty=0,\n",
    "        stream=False,\n",
    "    )\n",
    "\n",
    "    # Parse GPT response as JSON\n",
    "    response_text = completion.choices[0].message.content.strip()\n",
    "    try:\n",
    "        optimized = json.loads(response_text)\n",
    "    except json.JSONDecodeError:\n",
    "        print(f\"[Warning] Could not parse GPT response for intent: {intent}\")\n",
    "        optimized = utterances  # Fallback to original if parsing fails\n",
    "\n",
    "    return optimized\n",
    "\n",
    "\n",
    "def update_qna_questions_with_backup(json_file_path):\n",
    "    base, ext = os.path.splitext(json_file_path)\n",
    "    copy_file_path = f\"{base}_copy{ext}\"\n",
    "    shutil.copy(json_file_path, copy_file_path)\n",
    "\n",
    "    with open(copy_file_path, 'r', encoding='utf-8') as f:\n",
    "        data = json.load(f)\n",
    "\n",
    "    for entry in data.get(\"qna\", []):\n",
    "        qid = entry.get(\"qid\")\n",
    "        questions = entry.get(\"q\", [])\n",
    "        print(f\"\\n[Original Qs for {qid}]: {len(questions)}\")\n",
    "        try:\n",
    "            optimized_questions = azure_openai_model_for_optimizations(qid, questions)\n",
    "            print(f\"[Optimized Qs for {qid}]: {len(optimized_questions)}\")\n",
    "            entry[\"q\"] = optimized_questions\n",
    "        except Exception as e:\n",
    "            print(f\"[Error optimizing QID {qid}]: {e}\")\n",
    "            entry[\"q\"] = questions  # fallback\n",
    "\n",
    "    updated_file_path = f\"{base}_updated{ext}\"\n",
    "    with open(updated_file_path, 'w', encoding='utf-8') as f:\n",
    "        json.dump(data, f, ensure_ascii=False, indent=2)\n",
    "\n",
    "    return updated_file_path\n",
    "\n",
    "\n",
    "# Example call\n",
    "update_qna_questions_with_backup(\"data/sample_qna_test.json\")"
   ]
  }
 ],
 "metadata": {
  "kernelspec": {
   "display_name": "Python 3",
   "language": "python",
   "name": "python3"
  },
  "language_info": {
   "codemirror_mode": {
    "name": "ipython",
    "version": 3
   },
   "file_extension": ".py",
   "mimetype": "text/x-python",
   "name": "python",
   "nbconvert_exporter": "python",
   "pygments_lexer": "ipython3",
   "version": "3.10.16"
  }
 },
 "nbformat": 4,
 "nbformat_minor": 2
}
